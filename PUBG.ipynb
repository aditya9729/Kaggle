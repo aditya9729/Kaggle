{
  "cells": [
    {
      "metadata": {
        "_uuid": "d869c39116aa28cb8f058fa9fe7e010cbda9cf2b"
      },
      "cell_type": "markdown",
      "source": "Player Unknown's BattleGrounds aka PUBG is an online multiplayer game where up to 100 players parachute onto an island where they scavange for weapons and equipment to kill others in a last man standing battle royale. Players can choose to enter the match solo, or with a small team of up to four people. In either case, the last person or team left alive wins the match. \n\n**Key insights:**\n* Highly correlated variables with winPlacePerc: walkDistance (0.8), killPlace (-0.7), boosts (0.6) and weaponsAcquired (0.6)\n* 57% of players didn't have a single kill. 88% of players have only less than 3 kills.\n* Average winPlacePerc increases with the number of kills."
    },
    {
      "metadata": {
        "_kg_hide-input": true,
        "trusted": true,
        "_uuid": "67d93a69adbc8cb21d9054bd55340e38d0f27c9b"
      },
      "cell_type": "code",
      "source": "from IPython.display import Image\nImage(filename=\"../input/pubg-overview/overview.jpg\")",
      "execution_count": null,
      "outputs": []
    },
    {
      "metadata": {
        "_uuid": "8f2839f25d086af736a60e9eeb907d3b93b6e0e5",
        "_cell_guid": "b1076dfc-b9ad-4769-8c92-a6c4dae69d19",
        "trusted": true,
        "_kg_hide-input": true,
        "_kg_hide-output": true
      },
      "cell_type": "code",
      "source": "import numpy as np # linear algebra\nimport pandas as pd # data processing, CSV file I/O (e.g. pd.read_csv)\n\nimport seaborn as sns\nimport matplotlib.pyplot as plt\n%matplotlib inline\n\nfrom plotly import tools\nfrom plotly.offline import init_notebook_mode, iplot\nimport plotly.graph_objs as go\ninit_notebook_mode(connected=True)\n\nimport os\nprint(os.listdir(\"../input/pubg-finish-placement-prediction\"))",
      "execution_count": null,
      "outputs": []
    },
    {
      "metadata": {
        "_cell_guid": "79c7e3d0-c299-4dcb-8224-4455121ee9b0",
        "_uuid": "d629ff2d2480ee46fbb7e2d37f6b5fab8052498a",
        "trusted": true,
        "_kg_hide-input": true
      },
      "cell_type": "code",
      "source": "train = pd.read_csv('../input/pubg-finish-placement-prediction/train_V2.csv')\ntest = pd.read_csv('../input/pubg-finish-placement-prediction/test_V2.csv')\nsub = pd.read_csv('../input/pubg-finish-placement-prediction/sample_submission_V2.csv')\n\nprint('Train data: \\nRows: {}\\nCols: {}'.format(train.shape[0],train.shape[1]))\nprint(train.columns)\n\nprint('\\nTest data: \\nRows: {}\\nCols: {}'.format(test.shape[0],test.shape[1]))\nprint(test.columns)\n\nprint('\\nSubmission data: \\nRows: {}\\nCols: {}'.format(sub.shape[0],sub.shape[1]))\nprint(sub.columns)",
      "execution_count": null,
      "outputs": []
    },
    {
      "metadata": {
        "_uuid": "7df983c52438a9fd1155d3912844a44f46bad806"
      },
      "cell_type": "markdown",
      "source": "There is only one missing value in the Train data. Target value is not available for that record. The match ID corresponding to that record doesn't have any other record. Hence, dropping that record. "
    },
    {
      "metadata": {
        "trusted": true,
        "_uuid": "5bc752cdac61046c698dedbd04f6871259e678be",
        "_kg_hide-input": true
      },
      "cell_type": "code",
      "source": "print(\"Missing values in Train data\")\nfor x in train.columns:\n    if train[x].isnull().values.ravel().sum() > 0:\n        print('{} - {}'.format(x,train[x].isnull().values.ravel().sum()))\n\nprint(\"Missing values in Test data\")\nfor x in test.columns:\n    if test[x].isnull().values.ravel().sum() > 0:\n        print('{} - {}'.format(x,test[x].isnull().values.ravel().sum()))\n        \ntrain.dropna(inplace=True)",
      "execution_count": null,
      "outputs": []
    },
    {
      "metadata": {
        "_uuid": "eb7086fa0da4e97876d2f1115dee17e252b4b3f8"
      },
      "cell_type": "markdown",
      "source": "**Very High Negative correlation**\n- killPoints and rankPoints\n\n**Very High Positive correlation**\n- winPoints and killPoints\n- maxPlace and numGroups\n- kills and damageDealt"
    },
    {
      "metadata": {
        "trusted": true,
        "_uuid": "408eeb8f22d00f1a157725a0b7f31acb7344ad45",
        "_kg_hide-input": true
      },
      "cell_type": "code",
      "source": "train['allKills'] = train['headshotKills']+train['kills']+train['roadKills']+train['teamKills']+train['assists']\ntrain['allDistance'] = train['rideDistance']+train['swimDistance']+train['walkDistance']\n\nf,ax = plt.subplots(figsize=(15, 15))\nsns.heatmap(train.corr(), annot=True, linewidths=.5, fmt= '.1f',ax=ax, cmap=sns.color_palette(\"RdBu\", 20))\n\nax.set_xlabel('Numeric variables', size=14, color=\"#3498DB\")\nax.set_ylabel('Numeric variables', size=14, color=\"#3498DB\")\nax.set_title('[Heatmap] Correlation Matrix', size=18, color=\"#3498DB\")\n\nplt.show()",
      "execution_count": null,
      "outputs": []
    },
    {
      "metadata": {
        "_uuid": "5016c958dbd4f0a79028347c94d6c017955b27bf"
      },
      "cell_type": "markdown",
      "source": "**57% of players didn't have a single kill. 88% of players have only less than 3 kills.**"
    },
    {
      "metadata": {
        "trusted": true,
        "_uuid": "385606b12e618023c274e7cdea98efd1f34756cf",
        "_kg_hide-input": true
      },
      "cell_type": "code",
      "source": "data = train[['kills']].copy()\n\ndata.loc[data['kills'] > data['kills'].quantile(0.99)] = 8\ntemp1 = data['kills'].value_counts(sort=False).reset_index()\ntemp2 = data['kills'].value_counts(sort=False, normalize=True).reset_index()\ntemp2['kills'] = temp2['kills'] * 100\n\ntemp = pd.merge(temp1,temp2,how='inner',on='index')\ntemp['cum'] = temp['kills_y'].cumsum()\ntemp.loc[temp['index']==8, 'index'] = '8+'\ntemp['index'] = temp['index'].map(str) + \" kills\"\n\ntrace1 = dict(type='bar',\n    x=temp['index'],\n    y=temp['kills_x'],\n    marker=dict(\n        color='#2ECC71'\n    ),\n    name='Number of kills',\n    opacity=0.8\n)\n\ntrace2 = dict(type='scatter',\n    x=temp['index'],\n    y=temp['cum'],\n    marker=dict(\n        color='#29B6F6'\n    ),\n    line=dict(color= '#29B6F6', width= 1.5),\n    name='Cumulative % of Players',\n    xaxis='x1', \n    yaxis='y2' \n)\n\ndata = [trace1, trace2]\n\nlayout = go.Layout(\n    title='[Pareto Analysis] Kills vs % of Players',\n    legend= dict(orientation=\"h\"),\n    yaxis=dict(\n        range=[0,2625000],\n        title='Number of Kills',\n        titlefont=dict(\n            color=\"#2ECC71\"\n        )\n    ),\n    yaxis2=dict(\n        title='Cumulative % of Players',\n        titlefont=dict(\n            color='#29B6F6'\n        ),\n        range=[0,105],\n        overlaying='y',\n        anchor='x',\n        side='right'\n        )\n    )\n\nfig = go.Figure(data=data, layout=layout)\niplot(fig, filename=\"pareto\")",
      "execution_count": null,
      "outputs": []
    },
    {
      "metadata": {
        "_uuid": "fb13f7e52423b005ae4dc9f417c41ee133931adf"
      },
      "cell_type": "markdown",
      "source": "**Average of winPlacePerc increases with the number of kills**"
    },
    {
      "metadata": {
        "trusted": true,
        "_uuid": "5a6f6e672c1b2bcb0453ca2a3c72a84048773dbb",
        "_kg_hide-input": true
      },
      "cell_type": "code",
      "source": "data = train[['kills','winPlacePerc']].copy()\ndata.loc[data['kills'] > data['kills'].quantile(0.99), 'kills'] = '8+'\ndata['kills'] = data['kills'].map(str) + \" kills\"\nx_order = data.groupby('kills').mean().reset_index()['kills']\n\nfig, ax = plt.subplots(figsize=(20,8))\na = sns.boxplot(x='kills', y='winPlacePerc', data=data, ax=ax, color=\"#CDDC39\", order=x_order)\nax.set_xlabel('Kills', size=14, color=\"#9E9D24\")\nax.set_ylabel('Mean winPlacePerc', size=14, color=\"#9E9D24\")\nax.set_title('[Box Plot] Average winPlacePerc of Players with specific kills', size=18, color=\"#9E9D24\")\nplt.show()",
      "execution_count": null,
      "outputs": []
    },
    {
      "metadata": {
        "_uuid": "cb54a74978106f275173ae14365d0293af6c9484"
      },
      "cell_type": "markdown",
      "source": "**walkDistance has a 0.8 correlation with winPlacePerc. 99th percentile of walk Distance is 4396m. Grouping the walkDistance and creating a boxplot beautifully illustrates the correlation. **"
    },
    {
      "metadata": {
        "_kg_hide-input": true,
        "trusted": true,
        "_uuid": "342ab0dd96d8cc13a53720239d82687b14cf29d2"
      },
      "cell_type": "code",
      "source": "kills = train[['walkDistance','winPlacePerc']].copy()\n\nprint(\"99th percentile of walk distance is {}m\".format(kills['walkDistance'].quantile(0.99)))\n\ncut_range = np.linspace(0,4400,23)\ncut_range = np.append(cut_range, 26000)\nkills['walkDistanceGrouping'] = pd.cut(kills['walkDistance'],\n                                 cut_range,\n                                 labels=[\"{}-{}\".format(a_, b_) for a_, b_ in zip(cut_range[:23], cut_range[1:])],\n                                 include_lowest=True\n                                )\n\nfig, ax = plt.subplots(figsize=(15,10))\nsns.boxplot(x=\"winPlacePerc\", y=\"walkDistanceGrouping\", data=kills, ax=ax, palette=sns.color_palette(\"RdYlGn\", 23))\nax.set_xlabel('winPlacePerc', size=14, color=\"#0D47A1\")\nax.set_ylabel('walkDistance Groups (m)', size=14, color=\"#0D47A1\")\nax.set_title('[Horizontal Box Plot] Win Place Percentile vs Walk Distance', size=18, color=\"#0D47A1\")\nplt.gca().xaxis.grid(True)\nplt.show()",
      "execution_count": null,
      "outputs": []
    },
    {
      "metadata": {
        "_uuid": "a918d4460c6ad4a0ab37fd583661541a982495c9"
      },
      "cell_type": "markdown",
      "source": "**Abnormality observed in killPlace 30-40. Why is that so? What is a killPlace statistic exactly? Is it a sorted value of kills and winPlacePerc?**"
    },
    {
      "metadata": {
        "_kg_hide-input": true,
        "trusted": true,
        "_uuid": "e594b616804d22bf870e09dc94aa97397169274c"
      },
      "cell_type": "code",
      "source": "kill_place = train[['killPlace','winPlacePerc']].copy()\n\ncut_range = np.linspace(0,100,11)\n\nkill_place['killPlaceGroups'] = pd.cut(kill_place['killPlace'],\n                                 cut_range,\n                                 labels=[\"{0:.0f}-{1:.0f}\".format(a_, b_) for a_, b_ in zip(cut_range[:11], cut_range[1:])],\n                                 include_lowest=True\n                                )\n\nfig, ax = plt.subplots(figsize=(15,6))\nsns.boxplot(x=\"winPlacePerc\", y=\"killPlaceGroups\", data=kill_place, ax=ax, palette=sns.color_palette(\"RdYlGn_r\", 10))\nax.set_xlabel('winPlacePerc', size=14, color=\"#0D47A1\")\nax.set_ylabel('killPlace Groups', size=14, color=\"#0D47A1\")\nax.set_title('[Horizontal Box Plot] Win Place Percentile vs Kill Place', size=18, color=\"#0D47A1\")\nplt.gca().xaxis.grid(True)\nplt.show()",
      "execution_count": null,
      "outputs": []
    },
    {
      "metadata": {
        "_uuid": "0a39a9e70bdc8585f3062dcb87e6c9b542024d30"
      },
      "cell_type": "markdown",
      "source": "**Weapons are key to win this game. More the weapons a player has, the higher is the winPlacePerc till 10 weapons after which there is a slight dip.**"
    },
    {
      "metadata": {
        "trusted": true,
        "_uuid": "72854282750d36fd13acc9075372ba016de5a7e9",
        "_kg_hide-input": true
      },
      "cell_type": "code",
      "source": "weapons = train[['weaponsAcquired','winPlacePerc']].copy()\nweapons.loc[weapons['weaponsAcquired'] > weapons['weaponsAcquired'].quantile(0.99), 'weaponsAcquired'] = '11+'\nweapons['weaponsAcquired'] = weapons.weaponsAcquired.apply(lambda x: '0' + str(x) if isinstance(x,int) and x<10 else x) \nweapons['weaponsAcquired'] = weapons['weaponsAcquired'].map(str) + \" weapons\"\nx_order = weapons.groupby('weaponsAcquired').mean().reset_index()['weaponsAcquired']\n\nfig, ax = plt.subplots(figsize=(20,8))\na = sns.boxenplot(x='weaponsAcquired', y='winPlacePerc', data=weapons, ax=ax, color=\"#FFF176\", order=x_order)\nax.set_xlabel('Weapons', size=14, color=\"#3E2723\")\nax.set_ylabel('Mean winPlacePerc', size=14, color=\"#3E2723\")\nax.set_title('[Box Plot] Average winPlacePerc vs weapons acquired', size=18, color=\"#3E2723\")\nplt.show()",
      "execution_count": null,
      "outputs": []
    },
    {
      "metadata": {
        "_uuid": "a5b8d4249de45d7f1b5b6441ad49b003db375c76"
      },
      "cell_type": "markdown",
      "source": "**More to come!!!**"
    }
  ],
  "metadata": {
    "kernelspec": {
      "display_name": "Python 3",
      "language": "python",
      "name": "python3"
    },
    "language_info": {
      "name": "python",
      "version": "3.6.6",
      "mimetype": "text/x-python",
      "codemirror_mode": {
        "name": "ipython",
        "version": 3
      },
      "pygments_lexer": "ipython3",
      "nbconvert_exporter": "python",
      "file_extension": ".py"
    }
  },
  "nbformat": 4,
  "nbformat_minor": 1
}